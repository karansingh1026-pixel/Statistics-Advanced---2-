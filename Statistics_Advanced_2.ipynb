{
  "nbformat": 4,
  "nbformat_minor": 0,
  "metadata": {
    "colab": {
      "provenance": []
    },
    "kernelspec": {
      "name": "python3",
      "display_name": "Python 3"
    },
    "language_info": {
      "name": "python"
    }
  },
  "cells": [
    {
      "cell_type": "markdown",
      "source": [
        "Question 1: What is hypothesis testing in statistics?\n",
        "\n",
        "    Hypothesis testing in statistics is a method used to make decisions or draw conclusions about a population based on sample data.\n",
        "\n",
        "In simple words:\n",
        "\n",
        "    It is a way to check whether a claim (assumption) about a population is likely to be true or not.\n",
        "\n",
        "    Null hypothesis (H₀): The statement we assume to be true at the start (e.g., \"There is no difference\").\n",
        "\n",
        "    Alternative hypothesis (H₁): The statement we want to test (e.g., \"There is a difference\").\n",
        "\n",
        "    Process: We collect sample data → perform a test → decide whether to \"reject H₀\" or \"fail to reject H₀.\"\n",
        "\n",
        "Example:\n",
        "\n",
        "    A company claims its bulb lasts 1000 hours on average.\n",
        "\n",
        "    H₀: Mean life = 1000 hours\n",
        "\n",
        "    H₁: Mean life ≠ 1000 hours\n",
        "\n",
        "    We test using sample data to check if the claim holds true."
      ],
      "metadata": {
        "id": "Sa9h0WvJb9eq"
      }
    },
    {
      "cell_type": "markdown",
      "source": [
        "Question 2: What is the null hypothesis, and how does it differ from the alternative\n",
        "hypothesis?\n",
        "\n",
        "    The null hypothesis (H₀) is the statement that there is no effect, no difference, or no change. It represents the default assumption.\n",
        "\n",
        "    The alternative hypothesis (H₁ or Ha) is the statement that there is an effect, a difference, or a change. It is what we want to test or prove.\n",
        "\n",
        "Difference:\n",
        "\n",
        "    Null hypothesis (H₀): \"Nothing is happening.\" (e.g., mean = 50)\n",
        "\n",
        "    Alternative hypothesis (H₁): \"Something is happening.\" (e.g., mean ≠ 50)\n",
        "\n",
        "Example:\n",
        "\n",
        "    A medicine is tested to see if it lowers blood pressure.\n",
        "\n",
        "    H₀: The medicine has no effect on blood pressure.\n",
        "\n",
        "    H₁: The medicine does affect blood pressure."
      ],
      "metadata": {
        "id": "qPWGvitac6GP"
      }
    },
    {
      "cell_type": "markdown",
      "source": [
        "Question 3: Explain the significance level in hypothesis testing and its role in deciding\n",
        "the outcome of a test.\n",
        "\n",
        "    The significance level (α) in hypothesis testing is the threshold for deciding whether to reject the null hypothesis (H₀).\n",
        "\n",
        "    It tells us how much risk we are willing to take of making a Type I error (rejecting H₀ when it is actually true).\n",
        "\n",
        "    Common values of α are 0.05 (5%) or 0.01 (1%).\n",
        "\n",
        "    If the p-value ≤ α, we reject H₀ (evidence supports H₁).\n",
        "\n",
        "    If the p-value > α, we fail to reject H₀ (not enough evidence against H₀).\n",
        "\n",
        "Example:\n",
        "\n",
        "    If α = 0.05, it means we allow a 5% chance of concluding the medicine works when in reality it doesn’t."
      ],
      "metadata": {
        "id": "li2CSwoEd9ir"
      }
    },
    {
      "cell_type": "markdown",
      "source": [
        "Question 4: What are Type I and Type II errors? Give examples of each."
      ],
      "metadata": {
        "id": "Q8DQO9VTlF1N"
      }
    },
    {
      "cell_type": "markdown",
      "source": [
        "Type I Error (False Positive):\n",
        "\n",
        "    Rejecting a true null hypothesis.\n",
        "\n",
        "    It means you conclude something is true when in reality it is not.\n",
        "\n",
        "Example:\n",
        "\n",
        "    A medical test says a healthy person has a disease.\n",
        "\n",
        "Type II Error (False Negative):\n",
        "\n",
        "    Failing to reject a false null hypothesis.\n",
        "\n",
        "    It means you conclude something is false when in reality it is true.\n",
        "\n",
        "Example:\n",
        "\n",
        "    A medical test says a sick person is healthy.\n",
        "\n",
        "In short:\n",
        "\n",
        "    Type I Error = False Alarm\n",
        "\n",
        "    Type II Error = Missed Detection"
      ],
      "metadata": {
        "id": "1RVHvtHrmN66"
      }
    },
    {
      "cell_type": "markdown",
      "source": [
        "Question 5: What is the difference between a Z-test and a T-test? Explain when to use\n",
        "each.\n",
        "\n",
        "Z-test and T-test are both statistical tests used to compare means, but they differ in conditions:\n",
        "\n",
        "Z-test\n",
        "\n",
        "    Used when the sample size is large (n > 30).\n",
        "\n",
        "    Population variance (σ²) or standard deviation (σ) is known.\n",
        "\n",
        "    Follows the normal distribution.\n",
        "\n",
        "    Example: Checking if the average marks of 1000 students differ from the national average, when population variance is known.\n",
        "\n",
        "T-test\n",
        "\n",
        "    Used when the sample size is small (n ≤ 30).\n",
        "\n",
        "    Population variance is unknown (we use sample variance instead).\n",
        "\n",
        "    Follows the t-distribution.\n",
        "\n",
        "    Example: Comparing the average marks of 20 students in a class with the national average, when population variance is not known.\n",
        "\n",
        "In short:\n",
        "\n",
        "    Z-test → Large samples, population variance known.\n",
        "\n",
        "    T-test → Small samples, population variance unknown."
      ],
      "metadata": {
        "id": "uQjZ1jEnU3pw"
      }
    },
    {
      "cell_type": "markdown",
      "source": [
        "Question 6: Write a Python program to generate a binomial distribution with n=10 and\n",
        "p=0.5, then plot its histogram."
      ],
      "metadata": {
        "id": "HUM52EtRXh97"
      }
    },
    {
      "cell_type": "code",
      "source": [
        "import numpy as np\n",
        "import matplotlib.pyplot as plt\n",
        "\n",
        "# Parameters\n",
        "n = 10   # number of trials\n",
        "p = 0.5  # probability of success\n",
        "size = 1000  # number of samples\n",
        "\n",
        "# Generate binomial distribution\n",
        "data = np.random.binomial(n, p, size)\n",
        "\n",
        "# Plot histogram\n",
        "plt.hist(data, bins=range(n+2), edgecolor='black', align='left')\n",
        "plt.title(\"Binomial Distribution (n=10, p=0.5)\")\n",
        "plt.xlabel(\"Number of Successes\")\n",
        "plt.ylabel(\"Frequency\")\n",
        "plt.show()\n"
      ],
      "metadata": {
        "id": "UTcAJOfFXpde"
      },
      "execution_count": null,
      "outputs": []
    },
    {
      "cell_type": "markdown",
      "source": [
        "Explanation:\n",
        "\n",
        "    np.random.binomial(n, p, size) → generates random numbers following a binomial distribution.\n",
        "\n",
        "    bins=range(n+2) → makes sure bins cover values from 0 to n (0–10).\n",
        "\n",
        "    Histogram shows how often each outcome appears."
      ],
      "metadata": {
        "id": "dzPyD85kYhdC"
      }
    },
    {
      "cell_type": "markdown",
      "source": [
        "Question 7: Implement hypothesis testing using Z-statistics for a sample dataset in\n",
        "Python. Show the Python code and interpret the results.\n",
        "\n",
        "sample_data = [49.1, 50.2, 51.0, 48.7, 50.5, 49.8, 50.3, 50.7, 50.2, 49.6,\n",
        "                        50.1, 49.9, 50.8, 50.4, 48.9, 50.6, 50.0, 49.7, 50.2, 49.5,\n",
        "                        50.1, 50.3, 50.4, 50.5, 50.0, 50.7, 49.3, 49.8, 50.2, 50.9,\n",
        "                        50.3, 50.4, 50.0, 49.7, 50.5, 49.9]"
      ],
      "metadata": {
        "id": "ECo8db7zdY33"
      }
    },
    {
      "cell_type": "markdown",
      "source": [
        "    We’ll assume the following:\n",
        "\n",
        "    Null Hypothesis (H₀): Population mean μ = 50\n",
        "\n",
        "    Alternative Hypothesis (H₁): μ ≠ 50 (two-tailed test)\n",
        "\n",
        "    Significance Level (α): 0.05"
      ],
      "metadata": {
        "id": "35LEcf4gemw-"
      }
    },
    {
      "cell_type": "code",
      "source": [
        "import numpy as np\n",
        "from scipy.stats import norm\n",
        "\n",
        "# Sample data\n",
        "sample_data = [49.1, 50.2, 51.0, 48.7, 50.5, 49.8, 50.3, 50.7, 50.2, 49.6,\n",
        "               50.1, 49.9, 50.8, 50.4, 48.9, 50.6, 50.0, 49.7, 50.2, 49.5,\n",
        "               50.1, 50.3, 50.4, 50.5, 50.0, 50.7, 49.3, 49.8, 50.2, 50.9,\n",
        "               50.3, 50.4, 50.0, 49.7, 50.5, 49.9]\n",
        "\n",
        "# Hypothesized population mean\n",
        "mu_0 = 50\n",
        "\n",
        "# Compute sample statistics\n",
        "sample_mean = np.mean(sample_data)\n",
        "sample_std = np.std(sample_data, ddof=1)  # sample standard deviation\n",
        "n = len(sample_data)\n",
        "\n",
        "# Standard error\n",
        "se = sample_std / np.sqrt(n)\n",
        "\n",
        "# Z statistic\n",
        "z = (sample_mean - mu_0) / se\n",
        "\n",
        "# Two-tailed p-value\n",
        "p_value = 2 * (1 - norm.cdf(abs(z)))\n",
        "\n",
        "# Print results\n",
        "print(\"Sample Mean:\", round(sample_mean, 3))\n",
        "print(\"Sample Std Dev:\", round(sample_std, 3))\n",
        "print(\"Z-statistic:\", round(z, 3))\n",
        "print(\"p-value:\", round(p_value, 4))\n",
        "\n",
        "# Decision\n",
        "alpha = 0.05\n",
        "if p_value < alpha:\n",
        "    print(\"Reject the Null Hypothesis (H0).\")\n",
        "else:\n",
        "    print(\"Fail to Reject the Null Hypothesis (H0).\")\n"
      ],
      "metadata": {
        "id": "Gviv1z8XevT0"
      },
      "execution_count": null,
      "outputs": []
    },
    {
      "cell_type": "markdown",
      "source": [
        "Interpretation\n",
        "\n",
        "    The Z-statistic tells how many standard errors the sample mean is away from the hypothesized mean.\n",
        "\n",
        "    The p-value indicates the probability of observing such a sample (or more extreme) if the null hypothesis is true.\n",
        "\n",
        "    If p-value < 0.05, we reject H₀ → sample provides strong evidence that μ ≠ 50.\n",
        "\n",
        "    If p-value ≥ 0.05, we fail to reject H₀ → sample does not provide enough evidence to conclude μ ≠ 50."
      ],
      "metadata": {
        "id": "EJ12tRG2e1GA"
      }
    },
    {
      "cell_type": "markdown",
      "source": [
        "Question 8: Write a Python script to simulate data from a normal distribution and\n",
        "calculate the 95% confidence interval for its mean. Plot the data using Matplotlib."
      ],
      "metadata": {
        "id": "fuXh76YeiMan"
      }
    },
    {
      "cell_type": "code",
      "source": [
        "import numpy as np\n",
        "import matplotlib.pyplot as plt\n",
        "from scipy import stats\n",
        "\n",
        "# Step 1: Simulate data from a normal distribution\n",
        "np.random.seed(42)  # for reproducibility\n",
        "data = np.random.normal(loc=50, scale=10, size=200)  # mean=50, std=10, sample size=200\n",
        "\n",
        "# Step 2: Calculate sample statistics\n",
        "sample_mean = np.mean(data)\n",
        "sample_std = np.std(data, ddof=1)  # sample standard deviation\n",
        "n = len(data)\n",
        "\n",
        "# Step 3: Compute 95% confidence interval for the mean\n",
        "confidence = 0.95\n",
        "alpha = 1 - confidence\n",
        "t_critical = stats.t.ppf(1 - alpha/2, df=n-1)  # t-critical value\n",
        "\n",
        "margin_of_error = t_critical * (sample_std / np.sqrt(n))\n",
        "ci_lower = sample_mean - margin_of_error\n",
        "ci_upper = sample_mean + margin_of_error\n",
        "\n",
        "print(f\"Sample Mean: {sample_mean:.2f}\")\n",
        "print(f\"95% Confidence Interval: ({ci_lower:.2f}, {ci_upper:.2f})\")\n",
        "\n",
        "# Step 4: Plot the data\n",
        "plt.figure(figsize=(10,6))\n",
        "plt.hist(data, bins=20, color='skyblue', edgecolor='black', alpha=0.7)\n",
        "plt.axvline(sample_mean, color='red', linestyle='--', label=f\"Mean = {sample_mean:.2f}\")\n",
        "plt.axvline(ci_lower, color='green', linestyle='--', label=f\"95% CI Lower = {ci_lower:.2f}\")\n",
        "plt.axvline(ci_upper, color='green', linestyle='--', label=f\"95% CI Upper = {ci_upper:.2f}\")\n",
        "\n",
        "plt.title(\"Histogram of Simulated Normal Data with 95% Confidence Interval\")\n",
        "plt.xlabel(\"Value\")\n",
        "plt.ylabel(\"Frequency\")\n",
        "plt.legend()\n",
        "plt.show()\n"
      ],
      "metadata": {
        "id": "pSs6PDUwiakF"
      },
      "execution_count": null,
      "outputs": []
    },
    {
      "cell_type": "markdown",
      "source": [
        "What this does:\n",
        "\n",
        "    Generates random data from a normal distribution (mean=50, std=10, n=200).\n",
        "\n",
        "    Calculates the mean and standard deviation of the sample.\n",
        "\n",
        "    Uses the t-distribution to compute the 95% confidence interval.\n",
        "\n",
        "    Plots a histogram of the data with vertical lines showing the mean and CI bounds."
      ],
      "metadata": {
        "id": "bYzWznjijCyP"
      }
    },
    {
      "cell_type": "markdown",
      "source": [
        "Question 9: Write a Python function to calculate the Z-scores from a dataset and\n",
        "visualize the standardized data using a histogram. Explain what the Z-scores represent\n",
        "in terms of standard deviations from the mean."
      ],
      "metadata": {
        "id": "Wn-v--m9jbnl"
      }
    },
    {
      "cell_type": "code",
      "source": [
        "import numpy as np\n",
        "import matplotlib.pyplot as plt\n",
        "\n",
        "# Function to calculate Z-scores\n",
        "def calculate_z_scores(data):\n",
        "    mean = np.mean(data)\n",
        "    std = np.std(data, ddof=1)  # sample std deviation\n",
        "    z_scores = (data - mean) / std\n",
        "    return z_scores\n",
        "\n",
        "# Example dataset (you can replace this with your own)\n",
        "np.random.seed(0)\n",
        "data = np.random.normal(loc=100, scale=15, size=200)  # mean=100, std=15\n",
        "\n",
        "# Calculate Z-scores\n",
        "z_scores = calculate_z_scores(data)\n",
        "\n",
        "# Print some results\n",
        "print(f\"Original Mean: {np.mean(data):.2f}, Original Std Dev: {np.std(data, ddof=1):.2f}\")\n",
        "print(f\"Z-Scores Mean: {np.mean(z_scores):.2f}, Std Dev: {np.std(z_scores, ddof=1):.2f}\")\n",
        "\n",
        "# Visualize standardized data\n",
        "plt.figure(figsize=(10,6))\n",
        "plt.hist(z_scores, bins=20, color='lightcoral', edgecolor='black', alpha=0.7)\n",
        "plt.axvline(0, color='blue', linestyle='--', label=\"Mean (0 after standardization)\")\n",
        "plt.title(\"Histogram of Standardized Data (Z-Scores)\")\n",
        "plt.xlabel(\"Z-Score\")\n",
        "plt.ylabel(\"Frequency\")\n",
        "plt.legend()\n",
        "plt.show()\n"
      ],
      "metadata": {
        "id": "1u13h0OlkdFz"
      },
      "execution_count": null,
      "outputs": []
    },
    {
      "cell_type": "markdown",
      "source": [
        "    Z-score tells you how many standard deviations a data point is away from the mean.\n",
        "\n",
        "Z = (X - μ) / σ\n",
        "\n",
        "    Where:\n",
        "\n",
        "    X = data point\n",
        "\n",
        "    μ = mean of the dataset\n",
        "\n",
        "    σ = standard deviation\n",
        "\n",
        "Interpretation:\n",
        "\n",
        "    Z = 0 → The data point is exactly at the mean.\n",
        "\n",
        "    Z = 1 → The data point is 1 standard deviation above the mean.\n",
        "\n",
        "    Z = -1 → The data point is 1 standard deviation below the mean.\n",
        "\n",
        "    Extreme Z-scores (e.g., > 3 or < -3) often indicate outliers."
      ],
      "metadata": {
        "id": "tjuuC48Dk65q"
      }
    }
  ]
}